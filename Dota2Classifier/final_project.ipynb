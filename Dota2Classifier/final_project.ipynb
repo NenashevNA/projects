{
 "cells": [
  {
   "cell_type": "markdown",
   "id": "ordinary-fleece",
   "metadata": {},
   "source": [
    "# Отчет Градиентный бустинг\n",
    "### 1) Пропуски в данных.\n",
    "#### Из вывода кода ниже видно в колонках с именами есть пропуски, ниже возможные причины, почему данные оказались с пропусками:\n",
    "        first_blood_time - первой крови не было,\n",
    "        first_blood_team - аналогично,\n",
    "        first_blood_player1 - аналогично,\n",
    "        first_blood_player2 - аналогично,\n",
    "        radiant_bottle_time - боттл никто не покупал,\n",
    "        radiant_courier_time - не купили курьера (хотя выборка, вроде, из про матчей, а не пабчика),\n",
    "        radiant_flying_courier_time - аналогично - или не апнули курьера, или не купили,\n",
    "        radiant_first_ward_time - не купили или не поставили варды,\n",
    "        dire_bottle_time - аналогино,\n",
    "        dire_courier_time - аналогично,\n",
    "        dire_flying_courier_time - аналогично,\n",
    "        dire_first_ward_time - аналогично.\n",
    "### 2) Целевая переменная в столбце 'radiant_win'\n",
    "### 3) Времени затрачено в зависимости от числа деревьев и полученное качество\n",
    "        Trees number:  10 ROC-AUC average:  0.6643877206345741 Time spended:  0:00:33.209223\n",
    "        Trees number:  20 ROC-AUC average:  0.6828535735340823 Time spended:  0:01:05.854935\n",
    "        Trees number:  30 ROC-AUC average:  0.6894962060591201 Time spended:  0:01:40.367007\n",
    "        Trees number:  40 ROC-AUC average:  0.6941311214730338 Time spended:  0:02:12.439259\n",
    "        Trees number:  50 ROC-AUC average:  0.6974548316948366 Time spended:  0:02:42.516568\n",
    "        \n",
    "        Для ускорения можно увеличить параметр learning_rate.\n",
    "### 4) Смысла нет, т.к значение ROC-AUC метрики практически не изменяется при дальнейшем увеличении числа деревьев. "
   ]
  },
  {
   "cell_type": "code",
   "execution_count": 8,
   "id": "entire-singing",
   "metadata": {},
   "outputs": [],
   "source": [
    "import pandas as pd\n",
    "import numpy as np\n",
    "from sklearn.ensemble import GradientBoostingClassifier\n",
    "from sklearn.model_selection import KFold\n",
    "from sklearn.model_selection import cross_val_score\n",
    "import time\n",
    "import datetime"
   ]
  },
  {
   "cell_type": "markdown",
   "id": "hired-exercise",
   "metadata": {},
   "source": [
    "### Считывание признаков и формирование обучающей выборки и массива с целевой переменной"
   ]
  },
  {
   "cell_type": "code",
   "execution_count": 160,
   "id": "completed-genre",
   "metadata": {},
   "outputs": [],
   "source": [
    "features = pd.read_csv('./features.csv', index_col='match_id')\n",
    "y = features['radiant_win']\n",
    "features.drop(['duration',\n",
    "        'radiant_win',\n",
    "        'tower_status_radiant',\n",
    "        'tower_status_dire',\n",
    "        'barracks_status_dire',\n",
    "        'barracks_status_radiant'], axis='columns', inplace=True)\n",
    "X = features\n",
    "#print (y)\n",
    "#print (X)\n",
    "test = pd.read_csv('./features_test.csv', index_col='match_id')"
   ]
  },
  {
   "cell_type": "markdown",
   "id": "civil-vegetation",
   "metadata": {},
   "source": [
    "### Поиск и заполнение пропусков"
   ]
  },
  {
   "cell_type": "code",
   "execution_count": 161,
   "id": "packed-makeup",
   "metadata": {},
   "outputs": [
    {
     "name": "stdout",
     "output_type": "stream",
     "text": [
      "first_blood_time\n",
      "first_blood_team\n",
      "first_blood_player1\n",
      "first_blood_player2\n",
      "radiant_bottle_time\n",
      "radiant_courier_time\n",
      "radiant_flying_courier_time\n",
      "radiant_first_ward_time\n",
      "dire_bottle_time\n",
      "dire_courier_time\n",
      "dire_flying_courier_time\n",
      "dire_first_ward_time\n"
     ]
    }
   ],
   "source": [
    "test = test.fillna(0)\n",
    "for col in X.columns:\n",
    "    if (X[col].isnull().sum() > 0):\n",
    "        print (col)\n",
    "        X[col] = X[col].fillna(0)"
   ]
  },
  {
   "cell_type": "markdown",
   "id": "occasional-mention",
   "metadata": {},
   "source": [
    "### Обучение классификаторов"
   ]
  },
  {
   "cell_type": "code",
   "execution_count": 49,
   "id": "enormous-instruction",
   "metadata": {},
   "outputs": [],
   "source": [
    "cv = KFold(5, shuffle=True, random_state=241)\n",
    "scores = []\n",
    "times = []\n",
    "for i in [10, 20, 30, 40, 50]:\n",
    "    start_time = datetime.datetime.now()\n",
    "    gbc = GradientBoostingClassifier(n_estimators=i);\n",
    "    score = cross_val_score(X=X, y=y, estimator=gbc, cv=cv, scoring='roc_auc')\n",
    "    scores.append(np.average(score))\n",
    "    times.append(datetime.datetime.now() - start_time)"
   ]
  },
  {
   "cell_type": "markdown",
   "id": "loaded-vintage",
   "metadata": {},
   "source": [
    "### Вывод итогов"
   ]
  },
  {
   "cell_type": "code",
   "execution_count": 50,
   "id": "seventh-aircraft",
   "metadata": {},
   "outputs": [
    {
     "name": "stdout",
     "output_type": "stream",
     "text": [
      "Trees number:  10 ROC-AUC average:  0.6643877206345741 Time spended:  0:00:33.041424\n",
      "Trees number:  20 ROC-AUC average:  0.6828535735340823 Time spended:  0:01:05.796829\n",
      "Trees number:  30 ROC-AUC average:  0.6894962060591201 Time spended:  0:01:38.849133\n",
      "Trees number:  40 ROC-AUC average:  0.6941311214730338 Time spended:  0:02:16.849018\n",
      "Trees number:  50 ROC-AUC average:  0.6974548316948366 Time spended:  0:02:43.153568\n"
     ]
    }
   ],
   "source": [
    "for i in range(1, 6):\n",
    "    print (\"Trees number: \", 10 * i, \"ROC-AUC average: \", scores[i - 1], \"Time spended: \", times[i - 1])"
   ]
  },
  {
   "cell_type": "markdown",
   "id": "described-cemetery",
   "metadata": {},
   "source": [
    "# Отчет Логарифмическая регрессия\n",
    "### 1) Какое качество получилось у логистической регрессии над всеми исходными признаками? Как оно соотносится с качеством градиентного бустинга? Чем вы можете объяснить эту разницу? Быстрее ли работает логистическая регрессия по сравнению с градиентным бустингом?\n",
    "### 2) Как влияет на качество логистической регрессии удаление категориальных признаков (укажите новое значение метрики качества)? Чем вы можете объяснить это изменение?\n",
    "### 3) Сколько различных идентификаторов героев существует в данной игре?\n",
    "### 4) Какое получилось качество при добавлении \"мешка слов\" по героям? Улучшилось ли оно по сравнению с предыдущим вариантом? Чем вы можете это объяснить?\n",
    "### 5) Какое минимальное и максимальное значение прогноза на тестовой выборке получилось у лучшего из алгоритмов?"
   ]
  },
  {
   "cell_type": "code",
   "execution_count": 151,
   "id": "celtic-federal",
   "metadata": {},
   "outputs": [],
   "source": [
    "from sklearn.preprocessing import StandardScaler\n",
    "from sklearn.linear_model import LogisticRegression\n",
    "from sklearn.metrics import roc_auc_score\n",
    "import itertools"
   ]
  },
  {
   "cell_type": "markdown",
   "id": "wrong-queen",
   "metadata": {},
   "source": [
    "### Приведение признаков к одному масштабу"
   ]
  },
  {
   "cell_type": "code",
   "execution_count": 162,
   "id": "medium-advice",
   "metadata": {},
   "outputs": [
    {
     "name": "stdout",
     "output_type": "stream",
     "text": [
      "start_time                  1.430220e+09\n",
      "lobby_type                  0.000000e+00\n",
      "r1_hero                     4.200000e+01\n",
      "r1_level                    4.000000e+00\n",
      "r1_xp                       1.188000e+03\n",
      "                                ...     \n",
      "dire_tpscroll_count         5.000000e+00\n",
      "dire_boots_count            4.000000e+00\n",
      "dire_ward_observer_count    3.000000e+00\n",
      "dire_ward_sentry_count      1.000000e+00\n",
      "dire_first_ward_time       -5.000000e+00\n",
      "Name: 1, Length: 102, dtype: float64\n",
      "--------------\n",
      "start_time                 -2.540452\n",
      "lobby_type                 -0.927798\n",
      "r1_hero                    -0.292258\n",
      "r1_level                    0.501314\n",
      "r1_xp                      -0.080139\n",
      "                              ...   \n",
      "dire_tpscroll_count         1.066668\n",
      "dire_boots_count            0.562864\n",
      "dire_ward_observer_count    0.678170\n",
      "dire_ward_sentry_count      0.437788\n",
      "dire_first_ward_time        0.043947\n",
      "Name: 1, Length: 102, dtype: float64\n"
     ]
    }
   ],
   "source": [
    "scaler = StandardScaler()\n",
    "print (X.iloc[1])\n",
    "X[X.columns] = scaler.fit_transform(X[X.columns])\n",
    "print (\"--------------\")\n",
    "print (X.iloc[1])"
   ]
  },
  {
   "cell_type": "markdown",
   "id": "static-infection",
   "metadata": {},
   "source": [
    "### Обучение классификатора"
   ]
  },
  {
   "cell_type": "code",
   "execution_count": 146,
   "id": "expensive-anatomy",
   "metadata": {},
   "outputs": [],
   "source": [
    "cv_log = KFold(5, shuffle=True, random_state=241)\n",
    "scores_log = []\n",
    "times_log = []\n",
    "for C in [0.1, 0.2, 0.4, 0.6, 0.8, 1.0, 1.2, 1.4, 1.6, 1.8, 2.0]:\n",
    "    start_time = datetime.datetime.now()\n",
    "    lr = LogisticRegression(penalty='l2', C=C);\n",
    "    score_log = cross_val_score(X=X, y=y, estimator=lr, cv=cv_log, scoring='roc_auc')\n",
    "    scores_log.append(np.average(score_log))\n",
    "    times_log.append(datetime.datetime.now() - start_time)"
   ]
  },
  {
   "cell_type": "markdown",
   "id": "peaceful-campaign",
   "metadata": {},
   "source": [
    "### Вывод результатов"
   ]
  },
  {
   "cell_type": "code",
   "execution_count": 157,
   "id": "parliamentary-starter",
   "metadata": {},
   "outputs": [
    {
     "name": "stdout",
     "output_type": "stream",
     "text": [
      "C: 0.1 time: 0:00:02.977236 ROC-AUC: 0.7163104821911903\n",
      "C: 0.2 time: 0:00:02.627419 ROC-AUC: 0.7163080584810423\n",
      "C: 0.4 time: 0:00:02.608809 ROC-AUC: 0.7163068844675312\n",
      "C: 0.6 time: 0:00:02.818090 ROC-AUC: 0.7163068291433263\n",
      "C: 0.8 time: 0:00:02.598185 ROC-AUC: 0.7163071515611381\n",
      "C: 1.0 time: 0:00:02.732703 ROC-AUC: 0.7163066323165939\n",
      "C: 1.2 time: 0:00:02.615043 ROC-AUC: 0.716307085854079\n",
      "C: 1.4 time: 0:00:02.620396 ROC-AUC: 0.7163063717278819\n",
      "C: 1.6 time: 0:00:02.808783 ROC-AUC: 0.7163064097806202\n",
      "C: 1.8 time: 0:00:02.613228 ROC-AUC: 0.7163064330833286\n",
      "C: 2.0 time: 0:00:02.705744 ROC-AUC: 0.716306708587007\n"
     ]
    }
   ],
   "source": [
    "C_values = [0.1, 0.2, 0.4, 0.6, 0.8, 1.0, 1.2, 1.4, 1.6, 1.8, 2.0]\n",
    "for i in range(11):\n",
    "    print (\"C:\", C_values[i], \"time:\", times_log[i], \"ROC-AUC:\", scores_log[i])"
   ]
  },
  {
   "cell_type": "markdown",
   "id": "forbidden-easter",
   "metadata": {},
   "source": [
    "### Уберем категориальные признаки"
   ]
  },
  {
   "cell_type": "code",
   "execution_count": 163,
   "id": "understanding-sperm",
   "metadata": {},
   "outputs": [],
   "source": [
    "X.drop(['lobby_type', 'r1_hero', 'r2_hero', 'r3_hero', 'r4_hero', 'r5_hero',\n",
    "       'd1_hero', 'd2_hero', 'd3_hero', 'd4_hero', 'd5_hero'], axis='columns', inplace=True)"
   ]
  },
  {
   "cell_type": "markdown",
   "id": "boxed-radar",
   "metadata": {},
   "source": [
    "### Переобучаем"
   ]
  },
  {
   "cell_type": "code",
   "execution_count": 164,
   "id": "wooden-melbourne",
   "metadata": {},
   "outputs": [],
   "source": [
    "cv_log = KFold(5, shuffle=True, random_state=241)\n",
    "scores_log = []\n",
    "times_log = []\n",
    "for C in [0.1, 0.2, 0.4, 0.6, 0.8, 1.0, 1.2, 1.4, 1.6, 1.8, 2.0]:\n",
    "    start_time = datetime.datetime.now()\n",
    "    lr = LogisticRegression(penalty='l2', C=C);\n",
    "    score_log = cross_val_score(X=X, y=y, estimator=lr, cv=cv_log, scoring='roc_auc')\n",
    "    scores_log.append(np.average(score_log))\n",
    "    times_log.append(datetime.datetime.now() - start_time)"
   ]
  },
  {
   "cell_type": "markdown",
   "id": "threatened-authorization",
   "metadata": {},
   "source": [
    "### Без категориальных признаков"
   ]
  },
  {
   "cell_type": "code",
   "execution_count": 165,
   "id": "stretch-lighter",
   "metadata": {},
   "outputs": [
    {
     "name": "stdout",
     "output_type": "stream",
     "text": [
      "C: 0.1 time: 0:00:02.920308 ROC-AUC: 0.7163745519438582\n",
      "C: 0.2 time: 0:00:02.707141 ROC-AUC: 0.7163720623579352\n",
      "C: 0.4 time: 0:00:02.804573 ROC-AUC: 0.7163717888784846\n",
      "C: 0.6 time: 0:00:02.818490 ROC-AUC: 0.7163711193089657\n",
      "C: 0.8 time: 0:00:02.654374 ROC-AUC: 0.7163712656768272\n",
      "C: 1.0 time: 0:00:02.765744 ROC-AUC: 0.7163709541660922\n",
      "C: 1.2 time: 0:00:02.676005 ROC-AUC: 0.716370833454984\n",
      "C: 1.4 time: 0:00:02.771467 ROC-AUC: 0.7163709245254307\n",
      "C: 1.6 time: 0:00:02.910847 ROC-AUC: 0.7163710241640151\n",
      "C: 1.8 time: 0:00:02.655922 ROC-AUC: 0.7163710262844653\n",
      "C: 2.0 time: 0:00:02.726782 ROC-AUC: 0.7163710411455433\n"
     ]
    }
   ],
   "source": [
    "C_values = [0.1, 0.2, 0.4, 0.6, 0.8, 1.0, 1.2, 1.4, 1.6, 1.8, 2.0]\n",
    "for i in range(11):\n",
    "    print (\"C:\", C_values[i], \"time:\", times_log[i], \"ROC-AUC:\", scores_log[i])"
   ]
  },
  {
   "cell_type": "markdown",
   "id": "acting-newfoundland",
   "metadata": {},
   "source": [
    "### Подсчет уникальных персонажей"
   ]
  },
  {
   "cell_type": "markdown",
   "id": "anticipated-childhood",
   "metadata": {},
   "source": [
    "#### Вернем данные"
   ]
  },
  {
   "cell_type": "code",
   "execution_count": 257,
   "id": "useful-startup",
   "metadata": {},
   "outputs": [],
   "source": [
    "features = pd.read_csv('./features.csv', index_col='match_id')\n",
    "y = features['radiant_win']\n",
    "features.drop(['duration',\n",
    "        'radiant_win',\n",
    "        'tower_status_radiant',\n",
    "        'tower_status_dire',\n",
    "        'barracks_status_dire',\n",
    "        'barracks_status_radiant'], axis='columns', inplace=True)\n",
    "X = features\n",
    "#print (y)\n",
    "#print (X)\n",
    "test = pd.read_csv('./features_test.csv', index_col='match_id')"
   ]
  },
  {
   "cell_type": "code",
   "execution_count": 208,
   "id": "clean-tomato",
   "metadata": {},
   "outputs": [
    {
     "name": "stdout",
     "output_type": "stream",
     "text": [
      "108\n",
      "112\n"
     ]
    }
   ],
   "source": [
    "heroes = X[['r1_hero', 'r2_hero', 'r3_hero', 'r4_hero', 'r5_hero',\n",
    "       'd1_hero', 'd2_hero', 'd3_hero', 'd4_hero', 'd5_hero']]\n",
    "all_heroes = []\n",
    "for col in heroes.columns:\n",
    "    for x in heroes[col].values:\n",
    "        all_heroes.append(x)\n",
    "\n",
    "print (len(np.unique(all_heroes)))\n",
    "print (max(all_heroes))"
   ]
  },
  {
   "cell_type": "markdown",
   "id": "lesbian-casino",
   "metadata": {},
   "source": [
    "### Формирование мешка слов"
   ]
  },
  {
   "cell_type": "code",
   "execution_count": 251,
   "id": "brave-victoria",
   "metadata": {},
   "outputs": [
    {
     "name": "stdout",
     "output_type": "stream",
     "text": [
      "[[ 0.  0.  0. ...  0.  0.  0.]\n",
      " [ 0.  0.  0. ...  0.  0.  0.]\n",
      " [ 0.  0.  0. ...  0.  0.  0.]\n",
      " ...\n",
      " [ 0.  0.  0. ...  0.  0.  1.]\n",
      " [ 0.  0.  0. ...  0.  0.  0.]\n",
      " [ 0.  0.  0. ...  0.  0. -1.]]\n"
     ]
    }
   ],
   "source": [
    "# N — количество различных героев в выборке\n",
    "N = 113\n",
    "X_pick = np.zeros((X.shape[0], 113))\n",
    "\n",
    "\n",
    "for i, match_id in enumerate(X.index):\n",
    "    for p in range(5):\n",
    "        X_pick[i][int(X.iloc[i]['r%d_hero' % (p+1)])] = 1\n",
    "        X_pick[i][int(X.iloc[i]['d%d_hero' % (p+1)])] = -1\n",
    "\n",
    "print (X_pick)"
   ]
  },
  {
   "cell_type": "markdown",
   "id": "future-cinema",
   "metadata": {},
   "source": [
    "### Приведем к одному масштабу, заменим nan-значения, и заменим категориальные мешком слов"
   ]
  },
  {
   "cell_type": "code",
   "execution_count": 258,
   "id": "intense-trust",
   "metadata": {},
   "outputs": [],
   "source": [
    "scaler = StandardScaler()\n",
    "X[X.columns] = scaler.fit_transform(X[X.columns])\n",
    "X.drop(['lobby_type', 'r1_hero', 'r2_hero', 'r3_hero', 'r4_hero', 'r5_hero',\n",
    "        'd1_hero', 'd2_hero', 'd3_hero', 'd4_hero', 'd5_hero'], axis='columns', inplace=True)"
   ]
  },
  {
   "cell_type": "code",
   "execution_count": 259,
   "id": "fluid-frost",
   "metadata": {},
   "outputs": [
    {
     "name": "stdout",
     "output_type": "stream",
     "text": [
      "          start_time  r1_level     r1_xp   r1_gold     r1_lh  r1_kills  \\\n",
      "match_id                                                                 \n",
      "0          -2.544364  1.400808  1.525972  0.734957  0.969743 -0.537757   \n",
      "1          -2.540452  0.501314 -0.080139 -0.247570 -0.246859 -0.537757   \n",
      "2          -2.539231  0.501314  0.151070  0.263085  1.190944 -0.537757   \n",
      "3          -2.532622  0.501314  0.962950 -0.198013  0.306142 -0.537757   \n",
      "4          -2.529221  0.501314  0.348745 -0.124754 -0.357459  0.968527   \n",
      "...              ...       ...       ...       ...       ...       ...   \n",
      "114402      1.093978  0.501314  0.834109  0.107949  0.637942 -0.537757   \n",
      "114403      1.096181  0.501314  0.987660  0.577666  0.637942 -0.537757   \n",
      "114404      1.098746  0.501314  0.292267 -1.309820 -1.131661 -0.537757   \n",
      "114405      1.098952 -0.398181 -0.173682 -0.822866 -0.578660 -0.537757   \n",
      "114406      1.102648 -0.398181 -0.318409 -0.751762 -0.468060 -0.537757   \n",
      "\n",
      "          r1_deaths  r1_items  r2_level     r2_xp  ...  103  104  105  106  \\\n",
      "match_id                                           ...                       \n",
      "0         -0.578083 -0.509023 -0.332256 -0.625222  ...  0.0  0.0  1.0  0.0   \n",
      "1          1.017574  1.492930  0.578881  0.732454  ...  0.0  0.0  0.0  0.0   \n",
      "2         -0.578083  1.492930 -0.332256  0.224676  ...  0.0  0.0  0.0  0.0   \n",
      "3         -0.578083 -1.309804 -1.243393 -1.170813  ...  0.0  0.0  0.0  0.0   \n",
      "4         -0.578083 -0.108632 -1.243393 -1.008757  ...  0.0  0.0  0.0  0.0   \n",
      "...             ...       ...       ...       ...  ...  ...  ...  ...  ...   \n",
      "114402     1.017574 -0.108632 -1.243393 -1.032165  ...  0.0  0.0  0.0  0.0   \n",
      "114403     1.017574 -1.309804 -0.332256 -0.765671  ...  0.0  0.0  0.0  0.0   \n",
      "114404    -0.578083 -1.309804  0.578881  0.465961  ...  0.0  0.0  0.0  0.0   \n",
      "114405     2.613231 -0.909413  1.490017  1.377080  ...  0.0  0.0  0.0 -1.0   \n",
      "114406    -0.578083 -0.509023  1.490017  1.634571  ...  0.0  0.0  0.0 -1.0   \n",
      "\n",
      "          107  108  109  110  111  112  \n",
      "match_id                                \n",
      "0         0.0  0.0  0.0  0.0  0.0  0.0  \n",
      "1         0.0  0.0  0.0  0.0  0.0  0.0  \n",
      "2         0.0  0.0  0.0  0.0  0.0  0.0  \n",
      "3         0.0  0.0  0.0  0.0  0.0  0.0  \n",
      "4         0.0  0.0  0.0  0.0  0.0  0.0  \n",
      "...       ...  ...  ...  ...  ...  ...  \n",
      "114402    0.0  0.0  0.0  0.0  0.0  0.0  \n",
      "114403    0.0  0.0  0.0  1.0  0.0  0.0  \n",
      "114404    0.0  0.0  0.0  0.0  0.0  1.0  \n",
      "114405    0.0  0.0  0.0  0.0  0.0  0.0  \n",
      "114406    0.0  0.0  0.0  0.0  0.0 -1.0  \n",
      "\n",
      "[97230 rows x 204 columns]\n"
     ]
    }
   ],
   "source": [
    "pick_df = pd.DataFrame(X_pick, index=X.index)\n",
    "X = X.join(pick_df)\n",
    "print (X)"
   ]
  },
  {
   "cell_type": "code",
   "execution_count": 260,
   "id": "grave-device",
   "metadata": {},
   "outputs": [
    {
     "name": "stdout",
     "output_type": "stream",
     "text": [
      "first_blood_time\n",
      "first_blood_team\n",
      "first_blood_player1\n",
      "first_blood_player2\n",
      "radiant_bottle_time\n",
      "radiant_courier_time\n",
      "radiant_flying_courier_time\n",
      "radiant_first_ward_time\n",
      "dire_bottle_time\n",
      "dire_courier_time\n",
      "dire_flying_courier_time\n",
      "dire_first_ward_time\n"
     ]
    }
   ],
   "source": [
    "test = test.fillna(0)\n",
    "for col in X.columns:\n",
    "    if (X[col].isnull().sum() > 0):\n",
    "        print (col)\n",
    "        X[col] = X[col].fillna(0)"
   ]
  },
  {
   "cell_type": "markdown",
   "id": "unknown-satellite",
   "metadata": {},
   "source": [
    "###  Учим с мешком слов"
   ]
  },
  {
   "cell_type": "code",
   "execution_count": 265,
   "id": "considerable-diamond",
   "metadata": {},
   "outputs": [],
   "source": [
    "cv_log = KFold(5, shuffle=True, random_state=241)\n",
    "scores_log = []\n",
    "times_log = []\n",
    "for C in [0.1, 0.2, 0.4, 0.6, 0.8, 1.0, 1.2, 1.4, 1.6, 1.8, 2.0]:\n",
    "    start_time = datetime.datetime.now()\n",
    "    lr = LogisticRegression(penalty='l2', C=C, max_iter=1000);\n",
    "    score_log = cross_val_score(X=X, y=y, estimator=lr, cv=cv_log, scoring='roc_auc')\n",
    "    scores_log.append(np.average(score_log))\n",
    "    times_log.append(datetime.datetime.now() - start_time)"
   ]
  },
  {
   "cell_type": "code",
   "execution_count": 266,
   "id": "stuck-teach",
   "metadata": {},
   "outputs": [
    {
     "name": "stdout",
     "output_type": "stream",
     "text": [
      "C: 0.1 time: 0:00:11.238751 ROC-AUC: 0.752036314611976\n",
      "C: 0.2 time: 0:00:10.334547 ROC-AUC: 0.7520266250984584\n",
      "C: 0.4 time: 0:00:10.070942 ROC-AUC: 0.7520211114867772\n",
      "C: 0.6 time: 0:00:11.743307 ROC-AUC: 0.7520191371469503\n",
      "C: 0.8 time: 0:00:09.650042 ROC-AUC: 0.7520199450729723\n",
      "C: 1.0 time: 0:00:09.048122 ROC-AUC: 0.7520179210985909\n",
      "C: 1.2 time: 0:00:11.057455 ROC-AUC: 0.7520185540245964\n",
      "C: 1.4 time: 0:00:09.649043 ROC-AUC: 0.7520173443546087\n",
      "C: 1.6 time: 0:00:10.318924 ROC-AUC: 0.7520166835623222\n",
      "C: 1.8 time: 0:00:09.842797 ROC-AUC: 0.7520162130938314\n",
      "C: 2.0 time: 0:00:10.394138 ROC-AUC: 0.7520156431223286\n"
     ]
    }
   ],
   "source": [
    "C_values = [0.1, 0.2, 0.4, 0.6, 0.8, 1.0, 1.2, 1.4, 1.6, 1.8, 2.0]\n",
    "for i in range(11):\n",
    "    print (\"C:\", C_values[i], \"time:\", times_log[i], \"ROC-AUC:\", scores_log[i])"
   ]
  },
  {
   "cell_type": "markdown",
   "id": "dimensional-nudist",
   "metadata": {},
   "source": [
    "### Обучим с С = 0.1 последний классификатор и найдем предсказания на тестовой выборке"
   ]
  },
  {
   "cell_type": "code",
   "execution_count": 281,
   "id": "adaptive-absolute",
   "metadata": {},
   "outputs": [
    {
     "data": {
      "text/plain": [
       "LogisticRegression(C=0.1, max_iter=1000)"
      ]
     },
     "execution_count": 281,
     "metadata": {},
     "output_type": "execute_result"
    }
   ],
   "source": [
    "lr = LogisticRegression(penalty='l2', C=0.1, max_iter=1000);\n",
    "lr.fit(X=X, y=y)"
   ]
  },
  {
   "cell_type": "code",
   "execution_count": 272,
   "id": "independent-acrylic",
   "metadata": {},
   "outputs": [],
   "source": [
    "test = pd.read_csv('./features_test.csv', index_col='match_id')\n",
    "#test = scaler.transform(test)\n",
    "#print(test)"
   ]
  },
  {
   "cell_type": "code",
   "execution_count": 274,
   "id": "objective-cutting",
   "metadata": {},
   "outputs": [],
   "source": [
    "test = test.fillna(0)\n",
    "test[test.columns] = scaler.transform(test[test.columns])\n",
    "#print (test)"
   ]
  },
  {
   "cell_type": "code",
   "execution_count": 275,
   "id": "portuguese-welcome",
   "metadata": {},
   "outputs": [
    {
     "name": "stdout",
     "output_type": "stream",
     "text": [
      "[[ 0.  0.  0. ...  0.  0. -1.]\n",
      " [ 0.  0.  0. ...  0.  0. -1.]\n",
      " [ 0.  0.  0. ...  0.  0. -1.]\n",
      " ...\n",
      " [ 0.  0.  0. ...  0.  0. -1.]\n",
      " [ 0.  0.  0. ...  0.  0. -1.]\n",
      " [ 0.  0.  0. ...  0.  0. -1.]]\n"
     ]
    }
   ],
   "source": [
    "# N — количество различных героев в выборке\n",
    "N = 113\n",
    "test_pick = np.zeros((test.shape[0], 113))\n",
    "\n",
    "\n",
    "for i, match_id in enumerate(test.index):\n",
    "    for p in range(5):\n",
    "        test_pick[i][int(test.iloc[i]['r%d_hero' % (p+1)])] = 1\n",
    "        test_pick[i][int(test.iloc[i]['d%d_hero' % (p+1)])] = -1\n",
    "\n",
    "print (test_pick)"
   ]
  },
  {
   "cell_type": "code",
   "execution_count": 276,
   "id": "structured-procurement",
   "metadata": {},
   "outputs": [
    {
     "name": "stdout",
     "output_type": "stream",
     "text": [
      "          start_time  lobby_type   r1_hero  r1_level     r1_xp   r1_gold  \\\n",
      "match_id                                                                   \n",
      "6        -261.856116   -1.254977 -1.542905 -2.645736 -2.177315 -2.473613   \n",
      "7        -261.856116   -1.130621 -1.611746 -4.263917 -2.179019 -2.476022   \n",
      "10       -261.856116   -1.130621 -1.524987 -4.263917 -2.178411 -2.474917   \n",
      "13       -261.856116   -1.130621 -1.605144 -3.454827 -2.178545 -2.474476   \n",
      "16       -261.856116   -1.130621 -1.593828 -2.645736 -2.176829 -2.475600   \n",
      "...              ...         ...       ...       ...       ...       ...   \n",
      "114369   -261.856115   -0.384488 -1.620233 -1.836646 -2.174352 -2.469657   \n",
      "114377   -261.856115   -1.130621 -1.627777 -3.454827 -2.178421 -2.475860   \n",
      "114378   -261.856115   -1.130621 -1.550449 -4.263917 -2.178959 -2.476352   \n",
      "114393   -261.856115   -1.254977 -1.624005 -2.645736 -2.175006 -2.473209   \n",
      "114398   -261.856115   -1.130621 -1.623062 -2.645736 -2.176966 -2.472610   \n",
      "\n",
      "             r1_lh  r1_kills  r1_deaths  r1_items  ...  103  104  105  106  \\\n",
      "match_id                                           ...                       \n",
      "6        -1.281796 -1.347773   1.045616 -3.194939  ...  0.0  0.0  0.0  0.0   \n",
      "7        -1.367423 -1.347773  -1.500505 -3.194939  ...  0.0  0.0  0.0  0.0   \n",
      "10       -1.367423 -1.347773  -1.500505 -2.553689  ...  0.0  0.0  0.0  0.0   \n",
      "13       -1.367423  0.921120   1.045616 -2.874314  ...  0.0  0.0  0.0  0.0   \n",
      "16       -1.330726 -1.347773  -1.500505 -3.194939  ...  0.0  0.0  0.0  0.0   \n",
      "...            ...       ...        ...       ...  ...  ...  ...  ...  ...   \n",
      "114369   -1.049381 -1.347773   1.045616 -3.355251  ...  0.0  0.0  0.0  0.0   \n",
      "114377   -1.367423 -1.347773  -1.500505 -2.714001  ...  0.0  0.0  0.0  0.0   \n",
      "114378   -1.379656 -1.347773  -1.500505 -3.355251  ...  0.0  0.0  0.0  0.0   \n",
      "114393   -1.281796  0.921120   3.591737 -3.355251  ...  0.0  0.0  0.0  0.0   \n",
      "114398   -1.220634 -1.347773  -1.500505 -3.034626  ...  0.0  0.0  0.0  0.0   \n",
      "\n",
      "          107  108  109  110  111  112  \n",
      "match_id                                \n",
      "6         0.0  0.0  0.0  0.0  0.0 -1.0  \n",
      "7         0.0  0.0  0.0  0.0  0.0 -1.0  \n",
      "10        0.0  0.0  0.0  0.0  0.0 -1.0  \n",
      "13        0.0  0.0  0.0  0.0  0.0 -1.0  \n",
      "16        0.0  0.0  0.0  0.0  0.0 -1.0  \n",
      "...       ...  ...  ...  ...  ...  ...  \n",
      "114369    0.0  0.0  0.0  0.0  0.0 -1.0  \n",
      "114377    0.0  0.0  0.0  0.0  0.0 -1.0  \n",
      "114378    0.0  0.0  0.0  0.0  0.0 -1.0  \n",
      "114393    0.0  0.0  0.0  0.0  0.0 -1.0  \n",
      "114398    0.0  0.0  0.0  0.0  0.0 -1.0  \n",
      "\n",
      "[17177 rows x 215 columns]\n"
     ]
    }
   ],
   "source": [
    "test_pick_df = pd.DataFrame(test_pick, index=test.index)\n",
    "test = test.join(test_pick_df)\n",
    "print (test)"
   ]
  },
  {
   "cell_type": "code",
   "execution_count": 278,
   "id": "above-investor",
   "metadata": {},
   "outputs": [],
   "source": [
    "test.drop(['lobby_type', 'r1_hero', 'r2_hero', 'r3_hero', 'r4_hero', 'r5_hero',\n",
    "        'd1_hero', 'd2_hero', 'd3_hero', 'd4_hero', 'd5_hero'], axis='columns', inplace=True)"
   ]
  },
  {
   "cell_type": "code",
   "execution_count": 282,
   "id": "spread-location",
   "metadata": {},
   "outputs": [
    {
     "name": "stdout",
     "output_type": "stream",
     "text": [
      "0.0024095712106631394 0.00029156770779229825\n"
     ]
    }
   ],
   "source": [
    "print (max(lr.predict_proba(test)[:, 1]), min(lr.predict_proba(test)[:, 1]))"
   ]
  },
  {
   "cell_type": "code",
   "execution_count": null,
   "id": "conservative-batman",
   "metadata": {},
   "outputs": [],
   "source": []
  }
 ],
 "metadata": {
  "kernelspec": {
   "display_name": "Python 3",
   "language": "python",
   "name": "python3"
  },
  "language_info": {
   "codemirror_mode": {
    "name": "ipython",
    "version": 3
   },
   "file_extension": ".py",
   "mimetype": "text/x-python",
   "name": "python",
   "nbconvert_exporter": "python",
   "pygments_lexer": "ipython3",
   "version": "3.8.2"
  }
 },
 "nbformat": 4,
 "nbformat_minor": 5
}
